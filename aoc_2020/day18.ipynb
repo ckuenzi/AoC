{
 "cells": [
  {
   "cell_type": "code",
   "execution_count": 1,
   "metadata": {},
   "outputs": [],
   "source": [
    "input = open('inputs/day18.txt', 'r').read().replace(' ','').splitlines()"
   ]
  },
  {
   "cell_type": "code",
   "execution_count": 2,
   "metadata": {},
   "outputs": [
    {
     "data": {
      "text/plain": [
       "2743012121210"
      ]
     },
     "execution_count": 2,
     "metadata": {},
     "output_type": "execute_result"
    }
   ],
   "source": [
    "\n",
    "def solve(i, eq):\n",
    "    op = ''\n",
    "    while i < len(eq):\n",
    "        if eq[i] == '(':\n",
    "            i = solve(i+1, eq)\n",
    "        elif eq[i] == ')':\n",
    "            eq[i] = res\n",
    "            return i\n",
    "        else:\n",
    "            if eq[i] == '+' or eq[i] == '*':\n",
    "                op = eq[i]\n",
    "            else:\n",
    "                if op == '':\n",
    "                    res = int(eq[i])\n",
    "                elif op == '+':\n",
    "                    res += int(eq[i])\n",
    "                elif op == '*':\n",
    "                    res *= int(eq[i])\n",
    "            i += 1\n",
    "    return res\n",
    "sum([solve(0, l) for l in map(list, input)])"
   ]
  },
  {
   "cell_type": "code",
   "execution_count": 3,
   "metadata": {},
   "outputs": [
    {
     "data": {
      "text/plain": [
       "65658760783597"
      ]
     },
     "execution_count": 3,
     "metadata": {},
     "output_type": "execute_result"
    }
   ],
   "source": [
    "import re\n",
    "def escape(s):\n",
    "    return s.replace('+', '\\+').replace('*', '\\*').replace('(','\\(').replace(')','\\)')\n",
    "\n",
    "def solve_bracket(s):\n",
    "    while not s.isdigit():\n",
    "        for op in ['+', '*']:\n",
    "            while True:\n",
    "                r = re.search('([0-9]+)\\\\' + op + '([0-9]+)', s)\n",
    "                if r == None:\n",
    "                    break\n",
    "                s = re.sub(escape(r.group(0)), str(eval(r.group(0))), s, count=1)\n",
    "        r = re.search('\\(([0-9]+)\\)', s)\n",
    "        if r is not None:\n",
    "            s = re.sub(escape(r.group(0)), r.group(1), s)\n",
    "    return s\n",
    "\n",
    "def solve(s):\n",
    "    while True:\n",
    "        r= re.search(\"\\([0-9*+]+\\)\",s)\n",
    "        if r == None:\n",
    "            break\n",
    "        res = solve_bracket(r.group(0))\n",
    "        s = re.sub(escape(r.group(0)), res, s)\n",
    "    return s\n",
    "\n",
    "sum([int(solve_bracket(solve(l))) for l in input])"
   ]
  }
 ],
 "metadata": {
  "kernelspec": {
   "display_name": "Python 3",
   "language": "python",
   "name": "python3"
  },
  "language_info": {
   "codemirror_mode": {
    "name": "ipython",
    "version": 3
   },
   "file_extension": ".py",
   "mimetype": "text/x-python",
   "name": "python",
   "nbconvert_exporter": "python",
   "pygments_lexer": "ipython3",
   "version": "3.8.5"
  }
 },
 "nbformat": 4,
 "nbformat_minor": 4
}
