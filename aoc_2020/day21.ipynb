{
 "cells": [
  {
   "cell_type": "code",
   "execution_count": 1,
   "metadata": {},
   "outputs": [],
   "source": [
    "input = open('inputs/day21.txt', 'r').read().replace(')', '').split('\\n')\n",
    "food = []\n",
    "allergens = {}\n",
    "for line in input:\n",
    "    ingredients, allergen = tuple(line.split(' (contains '))\n",
    "    allergen, ingredients = list(allergen.split(', ')), list(ingredients.split())\n",
    "    food.append((ingredients, allergen))\n",
    "    for a in allergen:\n",
    "        allergens[a] = set(ingredients)"
   ]
  },
  {
   "cell_type": "code",
   "execution_count": 2,
   "metadata": {},
   "outputs": [
    {
     "data": {
      "text/plain": [
       "2098"
      ]
     },
     "execution_count": 2,
     "metadata": {},
     "output_type": "execute_result"
    }
   ],
   "source": [
    "all_ingr = set()\n",
    "for f,a in food:\n",
    "    all_ingr |= set(f)\n",
    "    for a in a:\n",
    "        allergens[a] &= set(f)\n",
    "may_contain = set()\n",
    "for a in allergens.values():\n",
    "    may_contain |= a\n",
    "sum([len(set(f[0]) & all_ingr - may_contain) for f in food])"
   ]
  },
  {
   "cell_type": "code",
   "execution_count": 3,
   "metadata": {},
   "outputs": [
    {
     "data": {
      "text/plain": [
       "'ppdplc,gkcplx,ktlh,msfmt,dqsbql,mvqkdj,ggsz,hbhsx'"
      ]
     },
     "execution_count": 3,
     "metadata": {},
     "output_type": "execute_result"
    }
   ],
   "source": [
    "for _ in range(10):\n",
    "    for a, f in allergens.items():\n",
    "        if len(f) == 1:\n",
    "            for k,v in allergens.items():\n",
    "                if k != a:\n",
    "                    allergens[k] -= f\n",
    "allergens = [(i,list(a)[0]) for i,a in allergens.items()]\n",
    "allergens = sorted(allergens, key=lambda s: s[0])\n",
    "','.join([s[1] for s in allergens])"
   ]
  }
 ],
 "metadata": {
  "kernelspec": {
   "display_name": "Python 3",
   "language": "python",
   "name": "python3"
  },
  "language_info": {
   "codemirror_mode": {
    "name": "ipython",
    "version": 3
   },
   "file_extension": ".py",
   "mimetype": "text/x-python",
   "name": "python",
   "nbconvert_exporter": "python",
   "pygments_lexer": "ipython3",
   "version": "3.8.5"
  }
 },
 "nbformat": 4,
 "nbformat_minor": 4
}
