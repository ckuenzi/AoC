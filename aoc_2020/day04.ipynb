{
 "cells": [
  {
   "cell_type": "code",
   "execution_count": 8,
   "metadata": {},
   "outputs": [],
   "source": [
    "input = open('inputs/day04.txt', 'r').read()"
   ]
  },
  {
   "cell_type": "code",
   "execution_count": 9,
   "metadata": {},
   "outputs": [
    {
     "name": "stdout",
     "output_type": "stream",
     "text": [
      "Part 1: 256\n",
      "Part 2: 198\n"
     ]
    }
   ],
   "source": [
    "import re\n",
    "\n",
    "passports = input.split('\\n\\n')\n",
    "result = 0\n",
    "valid_passes =  []\n",
    "for pas in passports:\n",
    "    pas = \" \".join(pas.splitlines())\n",
    "    values = {'byr': None, 'iyr': None, 'eyr': None, 'hgt': None, 'hcl': None, 'ecl': None, 'pid': None, 'cid': None}\n",
    "    for kv in pas.split(' '):\n",
    "        (k,v) = (kv.split(':')[0], kv.split(':')[1])\n",
    "        values[k] = v\n",
    "    valid = True\n",
    "    for (k, v) in values.items():\n",
    "        if v is None and k != 'cid':\n",
    "            valid = False\n",
    "    if valid:\n",
    "        valid_passes.append(values)\n",
    "print(\"Part 1: \" + str(len(valid_passes)))\n",
    "\n",
    "\n",
    "#Part 2\n",
    "count = 0\n",
    "for pas in valid_passes:\n",
    "    if not (int(pas['byr']) >= 1920 and int(pas['byr']) <=2002):\n",
    "        continue\n",
    "    if not (int(pas['iyr']) >= 2010 and int(pas['iyr']) <=2020):\n",
    "        continue\n",
    "    if not (int(pas['eyr']) >= 2020 and int(pas['eyr']) <=2030):\n",
    "        continue\n",
    "    reg = re.split('(\\d+)(.+)', pas['hgt'].strip())\n",
    "    height = int(reg[1])\n",
    "    unit = reg[2]\n",
    "    if not((unit == 'cm' and height >= 150 and height <= 193) or (unit == 'in' and height >= 59 and height <= 76)):\n",
    "        continue\n",
    "    if re.match(\"#[0-9a-f]{6}\", pas['hcl']) == None:\n",
    "        continue\n",
    "    if not(pas['ecl'] == 'amb' or pas['ecl'] == 'blu' or pas['ecl'] == 'brn' or pas['ecl'] == 'gry' or pas['ecl'] == 'grn' or pas['ecl'] == 'hzl' or pas['ecl'] == 'oth'):\n",
    "        continue\n",
    "    if re.match(\"[0-9]{9}\", pas['pid']) == None or len(pas['pid']) != 9:\n",
    "        continue\n",
    "    count = count + 1\n",
    "print(\"Part 2: \" + str(count))"
   ]
  }
 ],
 "metadata": {
  "kernelspec": {
   "display_name": "Python 3",
   "language": "python",
   "name": "python3"
  },
  "language_info": {
   "codemirror_mode": {
    "name": "ipython",
    "version": 3
   },
   "file_extension": ".py",
   "mimetype": "text/x-python",
   "name": "python",
   "nbconvert_exporter": "python",
   "pygments_lexer": "ipython3",
   "version": "3.8.5"
  }
 },
 "nbformat": 4,
 "nbformat_minor": 4
}
