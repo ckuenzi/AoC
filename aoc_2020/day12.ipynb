{
 "cells": [
  {
   "cell_type": "code",
   "execution_count": 1,
   "metadata": {},
   "outputs": [],
   "source": [
    "input = [(l[0], int(l[1:])) for l in open('inputs/day12.txt', 'r').read().split()]\n",
    "def move(x, y, dir, n):\n",
    "    if   dir == 'N': y += n\n",
    "    elif dir == 'S': y -= n\n",
    "    elif dir == 'E': x += n\n",
    "    elif dir == 'W': x -= n\n",
    "    return x,y\n",
    "\n",
    "def travel(x, y, dx, dy, relative):\n",
    "    for act, n in input:\n",
    "        if act == 'R': \n",
    "            for _ in range(n // 90): dx, dy = dy, -dx\n",
    "        elif act == 'L': \n",
    "            for _ in range(n // 90): dx, dy = -dy, dx\n",
    "        elif act == 'F': x,y = x + dx*n, y + dy*n  \n",
    "        elif relative: dx,dy = move(dx, dy, act, n)\n",
    "        else: x,y = move(x, y, act, n)\n",
    "    return abs(x) + abs(y)"
   ]
  },
  {
   "cell_type": "code",
   "execution_count": 2,
   "metadata": {},
   "outputs": [
    {
     "name": "stdout",
     "output_type": "stream",
     "text": [
      "2879\n",
      "178986\n"
     ]
    }
   ],
   "source": [
    "print(travel(0, 0, 1, 0, False))\n",
    "print(travel(0, 0, 10, 1, True))"
   ]
  }
 ],
 "metadata": {
  "kernelspec": {
   "display_name": "Python 3",
   "language": "python",
   "name": "python3"
  },
  "language_info": {
   "codemirror_mode": {
    "name": "ipython",
    "version": 3
   },
   "file_extension": ".py",
   "mimetype": "text/x-python",
   "name": "python",
   "nbconvert_exporter": "python",
   "pygments_lexer": "ipython3",
   "version": "3.8.5"
  }
 },
 "nbformat": 4,
 "nbformat_minor": 4
}
