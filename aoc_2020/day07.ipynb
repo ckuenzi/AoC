{
 "cells": [
  {
   "cell_type": "code",
   "execution_count": 1,
   "metadata": {},
   "outputs": [],
   "source": [
    "input = open('inputs/day07.txt', 'r').read().replace('bags', 'bag').replace(', ' ,',').replace('.','').splitlines()"
   ]
  },
  {
   "cell_type": "code",
   "execution_count": 2,
   "metadata": {},
   "outputs": [],
   "source": [
    "rules = {}\n",
    "for rule in input:\n",
    "    (bag, content) = tuple(rule.split(' contain '))\n",
    "    bag_rules = []\n",
    "    for c in content.split(','):\n",
    "        if c == 'no other bag':\n",
    "            bag_rules = None\n",
    "            continue\n",
    "        bag_rules.append((int(c[0]), c[2:]))\n",
    "    rules[bag] = bag_rules"
   ]
  },
  {
   "cell_type": "code",
   "execution_count": 3,
   "metadata": {},
   "outputs": [],
   "source": [
    "def solve(bag, rules):\n",
    "    if rules[bag] is None:\n",
    "        return (False, 0)\n",
    "    gold = False\n",
    "    count = 0\n",
    "    for rule in rules[bag]:\n",
    "        (has_gold, n) = solve(rule[1], rules)\n",
    "        count = count + rule[0] * (n + 1)\n",
    "        gold = gold or has_gold or rule[1] == 'shiny gold bag'\n",
    "    return(gold, count)"
   ]
  },
  {
   "cell_type": "code",
   "execution_count": 4,
   "metadata": {},
   "outputs": [
    {
     "data": {
      "text/plain": [
       "254"
      ]
     },
     "execution_count": 4,
     "metadata": {},
     "output_type": "execute_result"
    }
   ],
   "source": [
    "[solve(b, rules)[0] for b in rules].count(True)"
   ]
  },
  {
   "cell_type": "code",
   "execution_count": 5,
   "metadata": {},
   "outputs": [
    {
     "data": {
      "text/plain": [
       "6006"
      ]
     },
     "execution_count": 5,
     "metadata": {},
     "output_type": "execute_result"
    }
   ],
   "source": [
    "solve('shiny gold bag', rules)[1]"
   ]
  }
 ],
 "metadata": {
  "kernelspec": {
   "display_name": "Python 3",
   "language": "python",
   "name": "python3"
  },
  "language_info": {
   "codemirror_mode": {
    "name": "ipython",
    "version": 3
   },
   "file_extension": ".py",
   "mimetype": "text/x-python",
   "name": "python",
   "nbconvert_exporter": "python",
   "pygments_lexer": "ipython3",
   "version": "3.8.5"
  }
 },
 "nbformat": 4,
 "nbformat_minor": 4
}
