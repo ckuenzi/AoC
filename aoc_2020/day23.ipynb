{
 "cells": [
  {
   "cell_type": "code",
   "execution_count": 1,
   "metadata": {},
   "outputs": [],
   "source": [
    "input = open('inputs/day23.txt', 'r').read()\n",
    "in_cups = list(map(int, input))"
   ]
  },
  {
   "cell_type": "code",
   "execution_count": 2,
   "metadata": {},
   "outputs": [],
   "source": [
    "def play(cups, current, rounds):\n",
    "    min_cup = min(cups[1:])\n",
    "    max_cup = max(cups[1:])\n",
    "    for _ in range(rounds):\n",
    "        dest = current - 1\n",
    "        picked = [cups[current], cups[cups[current]], cups[cups[cups[current]]]]\n",
    "        if dest < min_cup: dest = max_cup\n",
    "        while dest in picked: dest -= 1\n",
    "        if dest < min_cup: dest = max_cup\n",
    "        cups[current] = cups[picked[2]]\n",
    "        tmp = cups[dest]\n",
    "        cups[dest] = picked[0]\n",
    "        cups[picked[2]] = tmp\n",
    "        current = cups[current]"
   ]
  },
  {
   "cell_type": "code",
   "execution_count": 3,
   "metadata": {},
   "outputs": [
    {
     "name": "stdout",
     "output_type": "stream",
     "text": [
      "47382659"
     ]
    }
   ],
   "source": [
    "cups = [None] * (len(in_cups)+1)\n",
    "for a, b in zip(in_cups, in_cups[1:]):\n",
    "    cups[a] = b\n",
    "cups[in_cups[-1]] = in_cups[0]\n",
    "play(cups, in_cups[0], 100)\n",
    "pos = 1\n",
    "for _ in range(len(cups)-2):\n",
    "    pos = cups[pos]\n",
    "    print(pos, end='')"
   ]
  },
  {
   "cell_type": "code",
   "execution_count": 4,
   "metadata": {},
   "outputs": [
    {
     "data": {
      "text/plain": [
       "42271866720"
      ]
     },
     "execution_count": 4,
     "metadata": {},
     "output_type": "execute_result"
    }
   ],
   "source": [
    "cups = [None] * (len(in_cups)+1)\n",
    "for a, b in zip(in_cups, in_cups[1:]):\n",
    "    cups[a] = b\n",
    "cups[in_cups[-1]] = len(cups)\n",
    "for i in range(max(cups[1:]), 1000001):\n",
    "    cups.append(i+1)\n",
    "cups[-1] = in_cups[0]\n",
    "play(cups, in_cups[0], 10000000)\n",
    "cups[cups[1]] * cups[1]"
   ]
  }
 ],
 "metadata": {
  "kernelspec": {
   "display_name": "Python 3",
   "language": "python",
   "name": "python3"
  },
  "language_info": {
   "codemirror_mode": {
    "name": "ipython",
    "version": 3
   },
   "file_extension": ".py",
   "mimetype": "text/x-python",
   "name": "python",
   "nbconvert_exporter": "python",
   "pygments_lexer": "ipython3",
   "version": "3.8.5"
  }
 },
 "nbformat": 4,
 "nbformat_minor": 4
}
