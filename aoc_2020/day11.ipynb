{
 "cells": [
  {
   "cell_type": "code",
   "execution_count": 1,
   "metadata": {},
   "outputs": [],
   "source": [
    "import itertools\n",
    "input = open('inputs/day11.txt', 'r').read().splitlines()\n",
    "grid_in = {}\n",
    "for y, line in enumerate(input):\n",
    "    for x, c in enumerate(line):\n",
    "        grid_in[(x,y)] = c\n",
    "dirs = [d for d in itertools.product([-1,0,1], repeat=2) if d != (0,0)]"
   ]
  },
  {
   "cell_type": "code",
   "execution_count": 2,
   "metadata": {},
   "outputs": [
    {
     "data": {
      "text/plain": [
       "2468"
      ]
     },
     "execution_count": 2,
     "metadata": {},
     "output_type": "execute_result"
    }
   ],
   "source": [
    "def count_adj(grid, pos):\n",
    "    occupied = 0\n",
    "    for dir in dirs:\n",
    "        adj = (pos[0] + dir[0], pos[1] + dir[1])\n",
    "        if grid.get(adj) == '#':\n",
    "            occupied = occupied + 1     \n",
    "    return occupied\n",
    "\n",
    "grid = grid_in.copy()\n",
    "changed = True\n",
    "while changed == True:\n",
    "    changed = False\n",
    "    freeze = dict(grid.copy())\n",
    "    for (pos, state) in freeze.items():\n",
    "        if state == 'L' and count_adj(freeze, pos) == 0:\n",
    "            grid[pos] = '#'\n",
    "            changed = True\n",
    "        elif state == '#' and count_adj(freeze, pos) >= 4:\n",
    "            grid[pos] = 'L'\n",
    "            changed = True\n",
    "list(grid.values()).count('#')"
   ]
  },
  {
   "cell_type": "code",
   "execution_count": 3,
   "metadata": {},
   "outputs": [
    {
     "data": {
      "text/plain": [
       "2214"
      ]
     },
     "execution_count": 3,
     "metadata": {},
     "output_type": "execute_result"
    }
   ],
   "source": [
    "def count_see(grid, pos):\n",
    "    occupied = 0\n",
    "    for dir in dirs:\n",
    "        step = pos\n",
    "        while True:\n",
    "            step = (step[0] + dir[0], step[1] + dir[1])\n",
    "            state = grid.get(step)\n",
    "            if state is None or state == 'L':\n",
    "                break\n",
    "            if state == '.':\n",
    "                continue\n",
    "            if state == '#':\n",
    "                occupied = occupied + 1\n",
    "                break\n",
    "    return occupied\n",
    "\n",
    "grid = grid_in.copy()\n",
    "changed = True\n",
    "while changed == True:\n",
    "    changed = False\n",
    "    freeze = dict(grid.copy())\n",
    "    for (pos, state) in freeze.items():\n",
    "        if state == 'L' and count_see(freeze, pos) == 0:\n",
    "            grid[pos] = '#'\n",
    "            changed = True\n",
    "        elif state == '#' and count_see(freeze, pos) >= 5:\n",
    "            grid[pos] = 'L'\n",
    "            changed = True\n",
    "list(grid.values()).count('#')"
   ]
  }
 ],
 "metadata": {
  "kernelspec": {
   "display_name": "Python 3",
   "language": "python",
   "name": "python3"
  },
  "language_info": {
   "codemirror_mode": {
    "name": "ipython",
    "version": 3
   },
   "file_extension": ".py",
   "mimetype": "text/x-python",
   "name": "python",
   "nbconvert_exporter": "python",
   "pygments_lexer": "ipython3",
   "version": "3.8.5"
  }
 },
 "nbformat": 4,
 "nbformat_minor": 4
}
