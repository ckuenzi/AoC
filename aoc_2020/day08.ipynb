{
 "cells": [
  {
   "cell_type": "code",
   "execution_count": 1,
   "metadata": {},
   "outputs": [],
   "source": [
    "input = open('inputs/day08.txt', 'r').read().splitlines()"
   ]
  },
  {
   "cell_type": "code",
   "execution_count": 2,
   "metadata": {},
   "outputs": [
    {
     "data": {
      "text/plain": [
       "1930"
      ]
     },
     "execution_count": 2,
     "metadata": {},
     "output_type": "execute_result"
    }
   ],
   "source": [
    "def run(asm):\n",
    "    asm = [[a[0], int(a[1]), False] for a in asm]\n",
    "    ip = 0\n",
    "    acc = 0\n",
    "    while not asm[ip][2]:\n",
    "        asm[ip][2] = True\n",
    "        if asm[ip][0] == 'acc':\n",
    "            acc = acc + asm[ip][1]\n",
    "            ip = ip + 1\n",
    "        elif asm[ip][0] == 'jmp':\n",
    "            ip = ip + asm[ip][1]\n",
    "        elif asm[ip][0] == 'nop':\n",
    "            ip = ip + 1\n",
    "        if ip >= len(asm):\n",
    "            return (acc, True)\n",
    "    return (acc, False)\n",
    "\n",
    "asm = [s.split() for s in input]\n",
    "run(asm)[0]"
   ]
  },
  {
   "cell_type": "code",
   "execution_count": 3,
   "metadata": {},
   "outputs": [
    {
     "name": "stdout",
     "output_type": "stream",
     "text": [
      "1688\n"
     ]
    }
   ],
   "source": [
    "for p in range(len(asm)):\n",
    "    if asm[p][0] == 'acc':\n",
    "        continue\n",
    "    asm = [s.split() for s in input]\n",
    "    asm[p][0] = 'nop' if asm[p][0] == 'jmp' else 'nop'\n",
    "    (acc, halts) = run(asm)\n",
    "    if halts:\n",
    "        print(acc)"
   ]
  }
 ],
 "metadata": {
  "kernelspec": {
   "display_name": "Python 3",
   "language": "python",
   "name": "python3"
  },
  "language_info": {
   "codemirror_mode": {
    "name": "ipython",
    "version": 3
   },
   "file_extension": ".py",
   "mimetype": "text/x-python",
   "name": "python",
   "nbconvert_exporter": "python",
   "pygments_lexer": "ipython3",
   "version": "3.8.5"
  }
 },
 "nbformat": 4,
 "nbformat_minor": 4
}
