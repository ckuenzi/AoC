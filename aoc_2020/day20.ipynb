{
 "cells": [
  {
   "cell_type": "code",
   "execution_count": 1,
   "metadata": {},
   "outputs": [],
   "source": [
    "import numpy as np\n",
    "\n",
    "n = 9\n",
    "input = open('inputs/day20.txt', 'r').read().split('\\n\\n')\n",
    "tiles = {}\n",
    "for t in input:\n",
    "    id = int(t.split('\\n')[0].split(' ')[1][:-1])\n",
    "    tile = np.array(np.zeros((n+1,n+1), int))\n",
    "    for y, l in enumerate(t.split('\\n')[1:]):\n",
    "        for x, c in enumerate(l):\n",
    "            tile[y][x] = 0 if c == '.' else 1\n",
    "    tiles[id] = tile"
   ]
  },
  {
   "cell_type": "code",
   "execution_count": 2,
   "metadata": {},
   "outputs": [],
   "source": [
    "def edges(tile):\n",
    "    out = []\n",
    "    out.append(tile[:,0])\n",
    "    out.append(tile[:,n])\n",
    "    out.append(tile[0,:])\n",
    "    out.append(tile[n,:])\n",
    "    out.append(np.flip(tile[:,0]))\n",
    "    out.append(np.flip(tile[:,n]))\n",
    "    out.append(np.flip(tile[0,:]))\n",
    "    out.append(np.flip(tile[n,:]))\n",
    "    return out"
   ]
  },
  {
   "cell_type": "code",
   "execution_count": 3,
   "metadata": {},
   "outputs": [
    {
     "data": {
      "text/plain": [
       "140656720229539"
      ]
     },
     "execution_count": 3,
     "metadata": {},
     "output_type": "execute_result"
    }
   ],
   "source": [
    "all_edges = []\n",
    "for id, tile in tiles.items():\n",
    "    for edge in edges(tile):\n",
    "        all_edges.append((id, edge))\n",
    "        \n",
    "n_unique = dict()\n",
    "for id in tiles:\n",
    "    n_unique[id] = 0\n",
    "\n",
    "for a in range(len(all_edges)):\n",
    "    unique = True\n",
    "    for b in range(len(all_edges)):\n",
    "        if a == b:\n",
    "            continue\n",
    "        if np.array_equal(all_edges[a][1], all_edges[b][1]):\n",
    "            unique = False\n",
    "    if unique:\n",
    "        n_unique[all_edges[a][0]] += 1\n",
    "\n",
    "p1 = 1\n",
    "for id, adj in n_unique.items():\n",
    "    if adj == 4:\n",
    "        p1 *= id\n",
    "        seed = id\n",
    "p1"
   ]
  },
  {
   "cell_type": "code",
   "execution_count": 4,
   "metadata": {},
   "outputs": [],
   "source": [
    "def find_match(edge_id, left):\n",
    "    if left:\n",
    "        edge = tiles[edge_id][:,n]\n",
    "    else:\n",
    "        edge = tiles[edge_id][n,:]\n",
    "    for id, tile in tiles.items():\n",
    "        if id in placed:\n",
    "            continue\n",
    "        if left:\n",
    "            for rot in range(4):\n",
    "                rotated = np.rot90(tile, k=rot)\n",
    "                if np.array_equal(edge, rotated[:,0]):\n",
    "                    tiles[id] = rotated\n",
    "                    return id\n",
    "            tile_f = np.flip(tile, 1)\n",
    "            for rot in range(4):\n",
    "                rotated = np.rot90(tile_f, k=rot)\n",
    "                if np.array_equal(edge, rotated[:,0]):\n",
    "                    tiles[id] = rotated\n",
    "                    return id\n",
    "        else:\n",
    "            for rot in range(4):\n",
    "                rotated = np.rot90(tile, k=rot)\n",
    "                if np.array_equal(edge, rotated[0,:]):\n",
    "                    tiles[id] = rotated\n",
    "                    return id\n",
    "            tile_f = np.flip(tile, 0)\n",
    "            for rot in range(4):\n",
    "                rotated = np.rot90(tile_f, k=rot)\n",
    "                if np.array_equal(edge, rotated[0,:]):\n",
    "                    tiles[id] = rotated\n",
    "                    return id"
   ]
  },
  {
   "cell_type": "code",
   "execution_count": 5,
   "metadata": {},
   "outputs": [],
   "source": [
    "placed = set()\n",
    "id_grid = np.zeros((12,12), int)\n",
    "id_grid[0][0] = seed\n",
    "placed.add(seed)\n",
    "tiles[seed] = np.rot90(tiles[seed], k=1)\n",
    "for x in range(11):\n",
    "    next_tile = find_match(id_grid[0][x], True)\n",
    "    id_grid[0][x+1] = next_tile\n",
    "    placed.add(next_tile)\n",
    "for y in range(11):\n",
    "    for x in range(12):\n",
    "        next_tile = find_match(id_grid[y][x], False)\n",
    "        id_grid[y+1][x] = next_tile\n",
    "        placed.add(next_tile)\n",
    "        \n",
    "grid = np.zeros((8*12, 8*12), int)\n",
    "n = 8\n",
    "for y in range(12):\n",
    "    for x in range(12):\n",
    "        grid[y*(n):y*(n)+n,x*(n):x*(n)+n] = tiles[id_grid[y][x]][1:n+1,1:n+1]"
   ]
  },
  {
   "cell_type": "code",
   "execution_count": 6,
   "metadata": {},
   "outputs": [
    {
     "data": {
      "text/plain": [
       "1885"
      ]
     },
     "execution_count": 6,
     "metadata": {},
     "output_type": "execute_result"
    }
   ],
   "source": [
    "monster_in = \"\"\"                  # \n",
    "#    ##    ##    ###\n",
    " #  #  #  #  #  #   \"\"\"\n",
    "monster = []\n",
    "for l in monster_in.split('\\n'):\n",
    "    row = []\n",
    "    for c in l:\n",
    "        row.append(1 if c == '#' else 0)\n",
    "    monster.append(row)\n",
    "monster = np.array(monster)\n",
    "\n",
    "grid_rot = np.rot90(grid, k=2)\n",
    "monsters = 0\n",
    "for y in range(0, len(grid)-len(monster)):\n",
    "    for x in range(0, len(grid[0]) - len(monster[0])):\n",
    "        found = True\n",
    "        for dy in range(0, len(monster)):\n",
    "            for dx in range(0, len(monster[0])):\n",
    "                if monster[dy][dx] == 1 and grid_rot[y+dy][x+dx] == 0:\n",
    "                    found = False\n",
    "        if(found):\n",
    "            monsters += 1\n",
    "            \n",
    "grid.sum() - monsters * monster.sum()"
   ]
  }
 ],
 "metadata": {
  "kernelspec": {
   "display_name": "Python 3",
   "language": "python",
   "name": "python3"
  },
  "language_info": {
   "codemirror_mode": {
    "name": "ipython",
    "version": 3
   },
   "file_extension": ".py",
   "mimetype": "text/x-python",
   "name": "python",
   "nbconvert_exporter": "python",
   "pygments_lexer": "ipython3",
   "version": "3.8.5"
  }
 },
 "nbformat": 4,
 "nbformat_minor": 4
}
