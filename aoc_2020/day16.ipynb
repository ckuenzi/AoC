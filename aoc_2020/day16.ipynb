{
 "cells": [
  {
   "cell_type": "code",
   "execution_count": 1,
   "metadata": {},
   "outputs": [],
   "source": [
    "input = open('inputs/day16.txt', 'r').read().split('\\n\\n')\n",
    "my_ticket = [int(n) for n in input[1].splitlines()[1].split(',')]"
   ]
  },
  {
   "cell_type": "code",
   "execution_count": 2,
   "metadata": {},
   "outputs": [
    {
     "data": {
      "text/plain": [
       "24021"
      ]
     },
     "execution_count": 2,
     "metadata": {},
     "output_type": "execute_result"
    }
   ],
   "source": [
    "rules = {}\n",
    "tickets = []\n",
    "for rule in input[0].splitlines():\n",
    "    name, ranges = tuple(rule.split(': '))\n",
    "    r1, r2 = ranges.split(' or ')\n",
    "    rules[name] = (tuple(map(int, r1.split('-'))), tuple(map(int, r2.split('-'))))\n",
    "all_tickets = [list(map(int, l.split(','))) for l in input[2].splitlines()[1:]]\n",
    "err = 0\n",
    "for ticket in all_tickets:\n",
    "    ticket_valid = True\n",
    "    for field in ticket:\n",
    "        valid = False\n",
    "        for rule in rules.values():\n",
    "            for interval in rule:\n",
    "                valid |= field >= interval[0] and field <= interval[1]\n",
    "        if not valid:\n",
    "            err += field\n",
    "            ticket_valid = False\n",
    "    if ticket_valid:\n",
    "        tickets.append(ticket)\n",
    "err"
   ]
  },
  {
   "cell_type": "code",
   "execution_count": 3,
   "metadata": {},
   "outputs": [
    {
     "data": {
      "text/plain": [
       "1289178686687"
      ]
     },
     "execution_count": 3,
     "metadata": {},
     "output_type": "execute_result"
    }
   ],
   "source": [
    "orules = []\n",
    "for _ in range(len(tickets[0])):\n",
    "    orules.append(rules.copy())\n",
    "for pos in range(len(orules)):\n",
    "    to_pop = set()\n",
    "    for rname, rule in orules[pos].items():\n",
    "        for ticket in tickets:\n",
    "            if not ((ticket[pos] >= rule[0][0] and ticket[pos] <= rule[0][1])\n",
    "                    or (ticket[pos] >= rule[1][0] and ticket[pos] <= rule[1][1])):\n",
    "                to_pop.add(rname)  \n",
    "                break\n",
    "    for tp in to_pop:\n",
    "        orules[pos].pop(tp)\n",
    "        \n",
    "done = set()\n",
    "for _ in range(len(orules) - 1):\n",
    "    for pos, orule in enumerate(orules):\n",
    "        if len(orule) == 1 and pos not in done:\n",
    "            to_pop = list(orule.keys())[0]\n",
    "            done.add(pos)\n",
    "            for i in range(len(orules)):\n",
    "                if i in done or to_pop not in orules[i]:\n",
    "                    continue\n",
    "                orules[i].pop(to_pop)\n",
    "            break\n",
    "            \n",
    "res = 1\n",
    "for pos, rule in enumerate(orules):\n",
    "    if list(rule.keys())[0].startswith('departure'):\n",
    "        res *= my_ticket[pos]\n",
    "res"
   ]
  }
 ],
 "metadata": {
  "kernelspec": {
   "display_name": "Python 3",
   "language": "python",
   "name": "python3"
  },
  "language_info": {
   "codemirror_mode": {
    "name": "ipython",
    "version": 3
   },
   "file_extension": ".py",
   "mimetype": "text/x-python",
   "name": "python",
   "nbconvert_exporter": "python",
   "pygments_lexer": "ipython3",
   "version": "3.8.5"
  }
 },
 "nbformat": 4,
 "nbformat_minor": 4
}
