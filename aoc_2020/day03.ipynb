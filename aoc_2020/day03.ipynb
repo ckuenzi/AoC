{
 "cells": [
  {
   "cell_type": "code",
   "execution_count": 14,
   "metadata": {},
   "outputs": [],
   "source": [
    "input = open('inputs/day03.txt', 'r').read()"
   ]
  },
  {
   "cell_type": "code",
   "execution_count": 29,
   "metadata": {},
   "outputs": [],
   "source": [
    "def traverse(lines, slope):\n",
    "    x = 0\n",
    "    y = 0\n",
    "    cnt = 0\n",
    "    while y < len(lines):\n",
    "        if lines[y][x % len(lines[0])] == '#':\n",
    "            cnt = cnt + 1\n",
    "        x = x + slope[0]\n",
    "        y = y + slope[1]\n",
    "    return cnt"
   ]
  },
  {
   "cell_type": "code",
   "execution_count": 30,
   "metadata": {},
   "outputs": [
    {
     "name": "stdout",
     "output_type": "stream",
     "text": [
      "Part 1: 153\n"
     ]
    }
   ],
   "source": [
    "lines = input.splitlines()\n",
    "print(\"Part 1: \" + str(traverse(lines, (3, 1))))"
   ]
  },
  {
   "cell_type": "code",
   "execution_count": 42,
   "metadata": {},
   "outputs": [
    {
     "name": "stdout",
     "output_type": "stream",
     "text": [
      "Part 2: 2421944712\n"
     ]
    }
   ],
   "source": [
    "slopes = [(1,1), (3,1), (5,1), (7,1), (1,2)]\n",
    "trees = [traverse(lines, s) for s in slopes]\n",
    "part2 = 1\n",
    "for t in trees:\n",
    "    part2 = part2 * t\n",
    "print(\"Part 2: \" + str(part2))"
   ]
  }
 ],
 "metadata": {
  "kernelspec": {
   "display_name": "Python 3",
   "language": "python",
   "name": "python3"
  },
  "language_info": {
   "codemirror_mode": {
    "name": "ipython",
    "version": 3
   },
   "file_extension": ".py",
   "mimetype": "text/x-python",
   "name": "python",
   "nbconvert_exporter": "python",
   "pygments_lexer": "ipython3",
   "version": "3.8.5"
  }
 },
 "nbformat": 4,
 "nbformat_minor": 4
}
