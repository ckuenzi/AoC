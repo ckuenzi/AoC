{
 "cells": [
  {
   "cell_type": "code",
   "execution_count": 1,
   "metadata": {},
   "outputs": [],
   "source": [
    "from collections import deque\n",
    "input = open('inputs/day22.txt', 'r').read().split('\\n\\n')\n",
    "deck1 = deque(map(int, input[0].splitlines()[1:]))\n",
    "deck2 = deque(map(int, input[1].splitlines()[1:]))"
   ]
  },
  {
   "cell_type": "code",
   "execution_count": 2,
   "metadata": {},
   "outputs": [
    {
     "data": {
      "text/plain": [
       "30138"
      ]
     },
     "execution_count": 2,
     "metadata": {},
     "output_type": "execute_result"
    }
   ],
   "source": [
    "decks = [deck1.copy(), deck2.copy()]\n",
    "while len(decks[0]) != 0 and len(decks[1]) != 0:\n",
    "    pair = [decks[0].popleft(), decks[1].popleft()]\n",
    "    decks[((pair[0] < pair[1] + 1) % 2)].extend(sorted(pair, reverse=True))\n",
    "sum([(i+1)*c for i,c in enumerate(list(decks[((len(decks[0])>0)+1)%2])[::-1])])"
   ]
  },
  {
   "cell_type": "code",
   "execution_count": 3,
   "metadata": {},
   "outputs": [
    {
     "data": {
      "text/plain": [
       "31587"
      ]
     },
     "execution_count": 3,
     "metadata": {},
     "output_type": "execute_result"
    }
   ],
   "source": [
    "def play(deck1, deck2):\n",
    "    history = set()\n",
    "    while len(deck1) != 0 and len(deck2) != 0:\n",
    "        if (tuple(deck1), tuple(deck2)) in history:\n",
    "            deck1.extend([pair[0], pair[1]])\n",
    "            return 1, deck1\n",
    "        history.add((tuple(deck1), tuple(deck2)))\n",
    "        pair = [deck1.popleft(), deck2.popleft()]\n",
    "        if len(deck1) >= pair[0] and len(deck2) >= pair[1]:\n",
    "            winner = play(deque(list(deck1)[:pair[0]]), deque(list(deck2)[:pair[1]]))[0]\n",
    "            if winner == 1:\n",
    "                deck1.extend([pair[0], pair[1]])\n",
    "            else:\n",
    "                deck2.extend([pair[1], pair[0]])\n",
    "            continue\n",
    "        if pair[0] > pair[1]:\n",
    "            deck1.extend([pair[0], pair[1]])\n",
    "        else:\n",
    "            deck2.extend([pair[1], pair[0]])\n",
    "    if len(deck1) > 0:\n",
    "        return 1, deck1\n",
    "    else:\n",
    "        return 2, deck2\n",
    "    \n",
    "sum([(i+1)*c for i,c in enumerate(list(play(deck1, deck2)[1])[::-1])])"
   ]
  }
 ],
 "metadata": {
  "kernelspec": {
   "display_name": "Python 3",
   "language": "python",
   "name": "python3"
  },
  "language_info": {
   "codemirror_mode": {
    "name": "ipython",
    "version": 3
   },
   "file_extension": ".py",
   "mimetype": "text/x-python",
   "name": "python",
   "nbconvert_exporter": "python",
   "pygments_lexer": "ipython3",
   "version": "3.8.5"
  }
 },
 "nbformat": 4,
 "nbformat_minor": 4
}
