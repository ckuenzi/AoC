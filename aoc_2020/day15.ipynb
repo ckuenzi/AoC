{
 "cells": [
  {
   "cell_type": "code",
   "execution_count": 1,
   "metadata": {},
   "outputs": [],
   "source": [
    "input = open('inputs/day15.txt', 'r').read().split(',')"
   ]
  },
  {
   "cell_type": "code",
   "execution_count": 2,
   "metadata": {},
   "outputs": [
    {
     "data": {
      "text/plain": [
       "950"
      ]
     },
     "execution_count": 2,
     "metadata": {},
     "output_type": "execute_result"
    }
   ],
   "source": [
    "N = 30000000\n",
    "seq = dict()\n",
    "for i, n in enumerate(input[:-1]):\n",
    "    seq[int(n)] = i\n",
    "\n",
    "turn = len(seq)\n",
    "last = int(input[-1])\n",
    "\n",
    "while turn < N-1:\n",
    "    next = turn - seq.get(last, turn)\n",
    "    seq[last] = turn\n",
    "    last = next\n",
    "    turn += 1\n",
    "last"
   ]
  }
 ],
 "metadata": {
  "kernelspec": {
   "display_name": "Python 3",
   "language": "python",
   "name": "python3"
  },
  "language_info": {
   "codemirror_mode": {
    "name": "ipython",
    "version": 3
   },
   "file_extension": ".py",
   "mimetype": "text/x-python",
   "name": "python",
   "nbconvert_exporter": "python",
   "pygments_lexer": "ipython3",
   "version": "3.8.5"
  }
 },
 "nbformat": 4,
 "nbformat_minor": 4
}
