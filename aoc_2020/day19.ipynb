{
 "cells": [
  {
   "cell_type": "code",
   "execution_count": 1,
   "metadata": {},
   "outputs": [],
   "source": [
    "import re\n",
    "rule_str, messages = tuple(open('inputs/day19.txt', 'r').read().split('\\n\\n'))\n",
    "max_r = max([int(r.split(':')[0]) for r in rule_str.splitlines()])\n",
    "rules = [None]*(max_r+1)\n",
    "for line in rule_str.splitlines():\n",
    "    n, r = tuple(line.split(': '))\n",
    "    r = r.split(' | ')\n",
    "    rule = []\n",
    "    for r in r:\n",
    "        subrule = []\n",
    "        for r in r.split(' '):\n",
    "            if r.isdigit():\n",
    "                subrule.append(int(r))\n",
    "            else:\n",
    "                subrule.append(r[1])\n",
    "        rule.append(subrule)\n",
    "    rules[int(n)] = rule\n",
    "\n",
    "messages = messages.splitlines()"
   ]
  },
  {
   "cell_type": "code",
   "execution_count": 2,
   "metadata": {},
   "outputs": [
    {
     "data": {
      "text/plain": [
       "269"
      ]
     },
     "execution_count": 2,
     "metadata": {},
     "output_type": "execute_result"
    }
   ],
   "source": [
    "def parse(rule):\n",
    "    out = \"(\"\n",
    "    for g in rule:\n",
    "        if g == ['a'] or g == ['b']: return g[0]        \n",
    "        for r in g: out += parse(rules[r])\n",
    "        out += '|'\n",
    "    out = out[:-1] + ')'\n",
    "    return out\n",
    "\n",
    "reg = '^' + parse(rules[0]) + '$'\n",
    "len([_ for msg in messages if re.match(reg ,msg)])"
   ]
  },
  {
   "cell_type": "code",
   "execution_count": 3,
   "metadata": {},
   "outputs": [
    {
     "data": {
      "text/plain": [
       "403"
      ]
     },
     "execution_count": 3,
     "metadata": {},
     "output_type": "execute_result"
    }
   ],
   "source": [
    "for n in range(2, 6): rules[8].append([42] * n)\n",
    "for n in range(2, 6): rules[11].append([42] * n + [31] * n)\n",
    "reg = '^' + parse(rules[0]) + '$'\n",
    "len([_ for msg in messages if re.match(reg ,msg)])"
   ]
  }
 ],
 "metadata": {
  "kernelspec": {
   "display_name": "Python 3",
   "language": "python",
   "name": "python3"
  },
  "language_info": {
   "codemirror_mode": {
    "name": "ipython",
    "version": 3
   },
   "file_extension": ".py",
   "mimetype": "text/x-python",
   "name": "python",
   "nbconvert_exporter": "python",
   "pygments_lexer": "ipython3",
   "version": "3.8.5"
  }
 },
 "nbformat": 4,
 "nbformat_minor": 4
}
