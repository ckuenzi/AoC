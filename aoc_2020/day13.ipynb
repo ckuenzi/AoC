{
 "cells": [
  {
   "cell_type": "code",
   "execution_count": 81,
   "metadata": {},
   "outputs": [],
   "source": [
    "from math import ceil\n",
    "input = open('inputs/day13.txt', 'r').read().split()\n",
    "t0 = int(input[0])\n",
    "ids = [int(t) for t in input[1].split(',') if t != 'x']"
   ]
  },
  {
   "cell_type": "code",
   "execution_count": 83,
   "metadata": {},
   "outputs": [
    {
     "data": {
      "text/plain": [
       "333"
      ]
     },
     "execution_count": 83,
     "metadata": {},
     "output_type": "execute_result"
    }
   ],
   "source": [
    "result = [ceil(t0/t) * t - t0 for t in ids]\n",
    "result = sorted(zip(ids, result), key=lambda x: x[1])\n",
    "result[0][0] * (result[0][1])"
   ]
  },
  {
   "cell_type": "code",
   "execution_count": 84,
   "metadata": {},
   "outputs": [
    {
     "name": "stdout",
     "output_type": "stream",
     "text": [
      "Wall time: 0 ns\n"
     ]
    },
    {
     "data": {
      "text/plain": [
       "690123192779524"
      ]
     },
     "execution_count": 84,
     "metadata": {},
     "output_type": "execute_result"
    }
   ],
   "source": [
    "ids = [(int(t[1]), t[0]) for t in enumerate(input[1].split(',')) if t[1] != 'x']\n",
    "target = [id[1] for id in ids]\n",
    "ids = [id[0] for id in ids]\n",
    "step = 1\n",
    "t = 1\n",
    "for i in range(len(ids)):\n",
    "    while (t + target[i]) % ids[i] != 0:\n",
    "        t += step\n",
    "    step *= ids[i]\n",
    "t"
   ]
  },
  {
   "cell_type": "code",
   "execution_count": null,
   "metadata": {},
   "outputs": [],
   "source": []
  }
 ],
 "metadata": {
  "kernelspec": {
   "display_name": "Python 3",
   "language": "python",
   "name": "python3"
  },
  "language_info": {
   "codemirror_mode": {
    "name": "ipython",
    "version": 3
   },
   "file_extension": ".py",
   "mimetype": "text/x-python",
   "name": "python",
   "nbconvert_exporter": "python",
   "pygments_lexer": "ipython3",
   "version": "3.8.5"
  }
 },
 "nbformat": 4,
 "nbformat_minor": 4
}
