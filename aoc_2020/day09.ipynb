{
 "cells": [
  {
   "cell_type": "code",
   "execution_count": 1,
   "metadata": {},
   "outputs": [],
   "source": [
    "from itertools import product, combinations\n",
    "input = open('inputs/day09.txt', 'r').read().splitlines()\n",
    "seq = [int(l) for l in input]"
   ]
  },
  {
   "cell_type": "code",
   "execution_count": 2,
   "metadata": {},
   "outputs": [
    {
     "data": {
      "text/plain": [
       "20874512"
      ]
     },
     "execution_count": 2,
     "metadata": {},
     "output_type": "execute_result"
    }
   ],
   "source": [
    "for n in range(25, len(seq)):\n",
    "    if not seq[n] in [sum(p) for p in combinations(seq[n-25:n], 2)]:\n",
    "        part1 = seq[n]\n",
    "        break\n",
    "part1"
   ]
  },
  {
   "cell_type": "code",
   "execution_count": 3,
   "metadata": {},
   "outputs": [
    {
     "data": {
      "text/plain": [
       "3012420"
      ]
     },
     "execution_count": 3,
     "metadata": {},
     "output_type": "execute_result"
    }
   ],
   "source": [
    "lower = 0\n",
    "upper = 1\n",
    "tot = seq[0]\n",
    "while tot != part1:\n",
    "    if tot < part1:\n",
    "        tot = tot + seq[upper]\n",
    "        upper = upper + 1\n",
    "    elif tot > part1:\n",
    "        lower = lower + 1\n",
    "        upper = lower + 1\n",
    "        tot = seq[lower]\n",
    "cont = seq[lower:upper]\n",
    "max(cont) + min(cont)"
   ]
  }
 ],
 "metadata": {
  "kernelspec": {
   "display_name": "Python 3",
   "language": "python",
   "name": "python3"
  },
  "language_info": {
   "codemirror_mode": {
    "name": "ipython",
    "version": 3
   },
   "file_extension": ".py",
   "mimetype": "text/x-python",
   "name": "python",
   "nbconvert_exporter": "python",
   "pygments_lexer": "ipython3",
   "version": "3.8.5"
  }
 },
 "nbformat": 4,
 "nbformat_minor": 4
}
