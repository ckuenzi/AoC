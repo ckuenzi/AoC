{
 "cells": [
  {
   "cell_type": "code",
   "execution_count": 2,
   "metadata": {},
   "outputs": [],
   "source": [
    "input = open('inputs/day02.txt', 'r').read()"
   ]
  },
  {
   "cell_type": "code",
   "execution_count": 38,
   "metadata": {},
   "outputs": [
    {
     "name": "stdout",
     "output_type": "stream",
     "text": [
      "Part 1: 614\n",
      "Part 2: 354\n"
     ]
    }
   ],
   "source": [
    "import itertools\n",
    "part1 = 0\n",
    "part2 = 0\n",
    "for line in input.splitlines():\n",
    "    line = line.replace('-', ' ')\n",
    "    args = line.split(' ')\n",
    "    min = int(args[0])\n",
    "    max = int(args[1])\n",
    "    char = args[2][:-1]\n",
    "    pw = args[3]\n",
    "    \n",
    "    cnt = len([c for c in pw if c == char])\n",
    "    if cnt >= min and cnt <= max:\n",
    "        part1 = part1 + 1\n",
    "    if (pw[min-1] == char) != (pw[max-1] == char):\n",
    "        part2 = part2 + 1\n",
    "print(\"Part 1: \" + str(part1))\n",
    "print(\"Part 2: \" + str(part2))"
   ]
  }
 ],
 "metadata": {
  "kernelspec": {
   "display_name": "Python 3",
   "language": "python",
   "name": "python3"
  },
  "language_info": {
   "codemirror_mode": {
    "name": "ipython",
    "version": 3
   },
   "file_extension": ".py",
   "mimetype": "text/x-python",
   "name": "python",
   "nbconvert_exporter": "python",
   "pygments_lexer": "ipython3",
   "version": "3.8.5"
  }
 },
 "nbformat": 4,
 "nbformat_minor": 4
}
