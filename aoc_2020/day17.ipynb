{
 "cells": [
  {
   "cell_type": "code",
   "execution_count": 1,
   "metadata": {},
   "outputs": [],
   "source": [
    "from itertools import product\n",
    "from collections import defaultdict\n",
    "input = open('inputs/day17.txt', 'r').read().split()"
   ]
  },
  {
   "cell_type": "code",
   "execution_count": 2,
   "metadata": {},
   "outputs": [],
   "source": [
    "def run(dim):\n",
    "    grid = dict()\n",
    "    for y, line in enumerate(input):\n",
    "        for x, c in enumerate(line):\n",
    "            grid[tuple([x,y] + [0] * (dim-2))] = c\n",
    "    offsets = [o for o in product([-1,0,1], repeat=dim) if o != tuple([0]*dim)]\n",
    "    \n",
    "    for _ in range(6):\n",
    "        counts = defaultdict(int)\n",
    "        for pos, c in grid.items():\n",
    "            if c != '#': continue\n",
    "            counts[pos] += 0\n",
    "            for offset in offsets:\n",
    "                counts[tuple(map(sum,zip(pos,offset)))] += 1\n",
    "        for pos, count in counts.items():\n",
    "            if not(grid.get(pos) == '#' and (count == 2 or count == 3)):\n",
    "                grid[pos] = '.'\n",
    "            if grid.get(pos) == '.' and count == 3:\n",
    "                grid[pos] = '#'\n",
    "    return list(grid.values()).count('#')"
   ]
  },
  {
   "cell_type": "code",
   "execution_count": 3,
   "metadata": {},
   "outputs": [
    {
     "name": "stdout",
     "output_type": "stream",
     "text": [
      "286\n",
      "960\n"
     ]
    }
   ],
   "source": [
    "print(run(3))\n",
    "print(run(4))"
   ]
  }
 ],
 "metadata": {
  "kernelspec": {
   "display_name": "Python 3",
   "language": "python",
   "name": "python3"
  },
  "language_info": {
   "codemirror_mode": {
    "name": "ipython",
    "version": 3
   },
   "file_extension": ".py",
   "mimetype": "text/x-python",
   "name": "python",
   "nbconvert_exporter": "python",
   "pygments_lexer": "ipython3",
   "version": "3.8.5"
  }
 },
 "nbformat": 4,
 "nbformat_minor": 4
}
