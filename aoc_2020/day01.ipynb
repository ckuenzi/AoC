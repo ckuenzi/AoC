{
 "cells": [
  {
   "cell_type": "code",
   "execution_count": 1,
   "metadata": {},
   "outputs": [],
   "source": [
    "input = open('inputs/day01.txt', 'r').read()"
   ]
  },
  {
   "cell_type": "code",
   "execution_count": 15,
   "metadata": {},
   "outputs": [
    {
     "name": "stdout",
     "output_type": "stream",
     "text": [
      "Part 1: 1007331\n",
      "Part 2: 48914340\n"
     ]
    }
   ],
   "source": [
    "import itertools\n",
    "nums = [int(x) for x in input.splitlines()]\n",
    "for pair in itertools.product(nums, nums):\n",
    "    if pair[0] + pair[1] == 2020:\n",
    "        print(\"Part 1: \" + str(pair[0]*pair[1]))\n",
    "        break\n",
    "for trip in itertools.product(nums, nums, nums):\n",
    "    if trip[0] + trip[1] + trip[2] == 2020:\n",
    "        print(\"Part 2: \" + str(trip[0]*trip[1]*trip[2]))\n",
    "        break"
   ]
  },
  {
   "cell_type": "code",
   "execution_count": null,
   "metadata": {},
   "outputs": [],
   "source": []
  }
 ],
 "metadata": {
  "kernelspec": {
   "display_name": "Python 3",
   "language": "python",
   "name": "python3"
  },
  "language_info": {
   "codemirror_mode": {
    "name": "ipython",
    "version": 3
   },
   "file_extension": ".py",
   "mimetype": "text/x-python",
   "name": "python",
   "nbconvert_exporter": "python",
   "pygments_lexer": "ipython3",
   "version": "3.8.5"
  }
 },
 "nbformat": 4,
 "nbformat_minor": 4
}
