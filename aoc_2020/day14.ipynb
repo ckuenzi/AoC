{
 "cells": [
  {
   "cell_type": "code",
   "execution_count": 1,
   "metadata": {},
   "outputs": [],
   "source": [
    "input = open('inputs/day14.txt', 'r').read().splitlines()"
   ]
  },
  {
   "cell_type": "code",
   "execution_count": 2,
   "metadata": {},
   "outputs": [
    {
     "data": {
      "text/plain": [
       "7440382076205"
      ]
     },
     "execution_count": 2,
     "metadata": {},
     "output_type": "execute_result"
    }
   ],
   "source": [
    "mem = {}\n",
    "for l in input:\n",
    "    com, val = tuple(l.split(' = '))\n",
    "    if com == 'mask':\n",
    "        set_mask = int(val.replace('X','0'), 2)\n",
    "        clr_mask = int(val.replace('X', '1'), 2)\n",
    "    else:\n",
    "        addr = int(com[4:-1])\n",
    "        val = int(val)\n",
    "        val |= set_mask\n",
    "        val &= clr_mask\n",
    "        mem[addr] = val\n",
    "sum(mem.values())"
   ]
  },
  {
   "cell_type": "code",
   "execution_count": 4,
   "metadata": {},
   "outputs": [
    {
     "data": {
      "text/plain": [
       "4200656704538"
      ]
     },
     "execution_count": 4,
     "metadata": {},
     "output_type": "execute_result"
    }
   ],
   "source": [
    "mem = {}\n",
    "for l in input:\n",
    "    com, val = tuple(l.split(' = '))\n",
    "    if com == 'mask':\n",
    "        set_mask = int(val.replace('X','0'), 2)\n",
    "        x_mask = val\n",
    "    else:\n",
    "        val = int(val)\n",
    "        addr = int(com[4:-1]) | set_mask\n",
    "        addr = ('0'*36 + \"{0:b}\".format(addr))[-36:]\n",
    "        addresses = set([addr])\n",
    "        for i, c in enumerate(x_mask):\n",
    "            if c == 'X':\n",
    "                to_add = set()\n",
    "                for a in addresses:\n",
    "                    to_add.add(a)\n",
    "                    a = a[:i] + str((int(a[i]) + 1) % 2) + a[i+1:]\n",
    "                    to_add.add(a)\n",
    "                addresses |= to_add\n",
    "        for a in [int(a, 2) for a in addresses]:\n",
    "            mem[a] = val        \n",
    "sum(mem.values())"
   ]
  }
 ],
 "metadata": {
  "kernelspec": {
   "display_name": "Python 3",
   "language": "python",
   "name": "python3"
  },
  "language_info": {
   "codemirror_mode": {
    "name": "ipython",
    "version": 3
   },
   "file_extension": ".py",
   "mimetype": "text/x-python",
   "name": "python",
   "nbconvert_exporter": "python",
   "pygments_lexer": "ipython3",
   "version": "3.8.5"
  }
 },
 "nbformat": 4,
 "nbformat_minor": 4
}
