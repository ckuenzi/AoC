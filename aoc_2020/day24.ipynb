{
 "cells": [
  {
   "cell_type": "code",
   "execution_count": 1,
   "metadata": {},
   "outputs": [],
   "source": [
    "from collections import defaultdict\n",
    "input = open('inputs/day24.txt', 'r').read().splitlines()"
   ]
  },
  {
   "cell_type": "code",
   "execution_count": 2,
   "metadata": {},
   "outputs": [
    {
     "data": {
      "text/plain": [
       "528"
      ]
     },
     "execution_count": 2,
     "metadata": {},
     "output_type": "execute_result"
    }
   ],
   "source": [
    "tiles = defaultdict(bool)\n",
    "for path in input:\n",
    "    i, x, y = 0, 0, 0\n",
    "    while i < len(path):\n",
    "        if path[i] == 'e':\n",
    "            x += 2\n",
    "            i += 1\n",
    "        elif path[i] == 'w':\n",
    "            x -= 2\n",
    "            i += 1\n",
    "        elif path[i:i+2] == 'se':\n",
    "            x, y = x+1, y-1\n",
    "            i += 2\n",
    "        elif path[i:i+2] == 'sw':\n",
    "            x, y = x-1, y-1\n",
    "            i += 2\n",
    "        elif path[i:i+2] == 'ne':\n",
    "            x, y = x+1, y+1\n",
    "            i += 2\n",
    "        elif path[i:i+2] == 'nw':\n",
    "            x, y = x-1, y+1\n",
    "            i += 2\n",
    "    tiles[(x,y)] ^= True\n",
    "list(tiles.values()).count(True)"
   ]
  },
  {
   "cell_type": "code",
   "execution_count": 3,
   "metadata": {
    "scrolled": true
   },
   "outputs": [
    {
     "data": {
      "text/plain": [
       "4200"
      ]
     },
     "execution_count": 3,
     "metadata": {},
     "output_type": "execute_result"
    }
   ],
   "source": [
    "offsets = [(-2,0), (2,0), (1,-1), (1,1), (-1,-1), (-1,1)]\n",
    "for _ in range(100):\n",
    "    counts = defaultdict(int)\n",
    "    for pos, color in tiles.items():\n",
    "        counts[pos] += 0\n",
    "        if color == False: continue\n",
    "        for offset in offsets:\n",
    "            counts[tuple(map(sum,zip(pos,offset)))] += 1\n",
    "    for pos in counts:\n",
    "        if tiles[pos] and (counts[pos] == 0 or counts[pos] > 2):\n",
    "            tiles[pos] = False\n",
    "        elif (not tiles[pos]) and counts[pos] == 2:\n",
    "            tiles[pos] = True\n",
    "list(tiles.values()).count(True)"
   ]
  }
 ],
 "metadata": {
  "kernelspec": {
   "display_name": "Python 3",
   "language": "python",
   "name": "python3"
  },
  "language_info": {
   "codemirror_mode": {
    "name": "ipython",
    "version": 3
   },
   "file_extension": ".py",
   "mimetype": "text/x-python",
   "name": "python",
   "nbconvert_exporter": "python",
   "pygments_lexer": "ipython3",
   "version": "3.8.5"
  }
 },
 "nbformat": 4,
 "nbformat_minor": 4
}
