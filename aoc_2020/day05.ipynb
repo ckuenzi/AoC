{
 "cells": [
  {
   "cell_type": "code",
   "execution_count": null,
   "metadata": {},
   "outputs": [],
   "source": [
    "input = open('inputs/day05.txt', 'r').read()"
   ]
  },
  {
   "cell_type": "code",
   "execution_count": null,
   "metadata": {},
   "outputs": [],
   "source": [
    "import re\n",
    "def parse(pas):\n",
    "    reg = re.split('([FB]+)([RL]+)', pas)\n",
    "    (row, col) = (reg[1], reg[2])\n",
    "    row = int(row.replace('F', '0').replace('B', '1'), 2)\n",
    "    col = int(col.replace('L', '0').replace('R', '1'), 2)\n",
    "    id = row * 8 + col\n",
    "    return id"
   ]
  },
  {
   "cell_type": "code",
   "execution_count": null,
   "metadata": {},
   "outputs": [],
   "source": [
    "#Part 1\n",
    "ids = [parse(p) for p in input.splitlines()]\n",
    "max(ids)"
   ]
  },
  {
   "cell_type": "code",
   "execution_count": null,
   "metadata": {},
   "outputs": [],
   "source": [
    "#Part 2\n",
    "ids.sort()\n",
    "for i in range(len(ids)-2):\n",
    "    if ids[i] + 2 == ids[i+1]:\n",
    "        print(ids[i] + 1)"
   ]
  }
 ],
 "metadata": {
  "kernelspec": {
   "display_name": "Python 3",
   "language": "python",
   "name": "python3"
  },
  "language_info": {
   "codemirror_mode": {
    "name": "ipython",
    "version": 3
   },
   "file_extension": ".py",
   "mimetype": "text/x-python",
   "name": "python",
   "nbconvert_exporter": "python",
   "pygments_lexer": "ipython3",
   "version": "3.8.5"
  }
 },
 "nbformat": 4,
 "nbformat_minor": 4
}
