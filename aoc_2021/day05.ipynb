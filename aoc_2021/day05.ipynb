{
 "cells": [
  {
   "cell_type": "code",
   "execution_count": 1,
   "metadata": {},
   "outputs": [
    {
     "name": "stdout",
     "output_type": "stream",
     "text": [
      "7269\n",
      "21140\n"
     ]
    }
   ],
   "source": [
    "from collections import defaultdict\n",
    "from numpy import sign\n",
    "\n",
    "p1 = defaultdict(int)\n",
    "p2 = defaultdict(int)\n",
    "for line in open('day05.txt').read().replace(' -> ', ',').splitlines():\n",
    "    x1,y1,x2,y2 = [int(n) for n in line.split(\",\")]\n",
    "    straight = x1 == x2 or y1 == y2\n",
    "    dx, dy = sign(x2 - x1), sign(y2 - y1)\n",
    "    while (x1,y1) != (x2+dx,y2+dy):\n",
    "        if straight:\n",
    "            p1[(x1, y1)] += 1\n",
    "        p2[(x1,y1)] += 1\n",
    "        x1 += dx\n",
    "        y1 += dy\n",
    "\n",
    "print(sum(1 for c in p1.values() if c>1))\n",
    "print(sum(1 for c in p2.values() if c>1))"
   ]
  }
 ],
 "metadata": {
  "kernelspec": {
   "display_name": "Python 3",
   "language": "python",
   "name": "python3"
  },
  "language_info": {
   "codemirror_mode": {
    "name": "ipython",
    "version": 3
   },
   "file_extension": ".py",
   "mimetype": "text/x-python",
   "name": "python",
   "nbconvert_exporter": "python",
   "pygments_lexer": "ipython3",
   "version": "3.8.5"
  }
 },
 "nbformat": 4,
 "nbformat_minor": 4
}
