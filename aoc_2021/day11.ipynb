{
 "cells": [
  {
   "cell_type": "code",
   "execution_count": 1,
   "metadata": {},
   "outputs": [
    {
     "name": "stdout",
     "output_type": "stream",
     "text": [
      "1652\n"
     ]
    },
    {
     "data": {
      "text/plain": [
       "220"
      ]
     },
     "execution_count": 1,
     "metadata": {},
     "output_type": "execute_result"
    }
   ],
   "source": [
    "from itertools import product\n",
    "\n",
    "cave = dict()\n",
    "for y, line in enumerate(open('day11.txt').read().splitlines()):\n",
    "    for x, n in enumerate(line):\n",
    "        cave[x,y] = int(n)\n",
    "dirs = list(product([-1,0,1], [-1,0,1]))\n",
    "dirs.remove((0,0))\n",
    "\n",
    "p1 = total = step = 0\n",
    "while total != 100:\n",
    "    total = 0\n",
    "    step += 1\n",
    "    for k in cave: cave[k] += 1\n",
    "    to_flash = [k for k,v in cave.items() if v > 9]\n",
    "    flashed = []\n",
    "    while to_flash:\n",
    "        x,y = to_flash.pop()\n",
    "        flashed.append((x,y))\n",
    "        for dx,dy in dirs:\n",
    "            xn,yn = x+dx, y+dy\n",
    "            if (xn,yn) not in cave: continue\n",
    "            cave[xn,yn] += 1\n",
    "            if cave[xn,yn] > 9 and (xn,yn) not in flashed and (xn,yn) not in to_flash:\n",
    "                to_flash.append((xn,yn))\n",
    "    total = 0\n",
    "    for k in cave:\n",
    "        if cave[k] > 9:\n",
    "            cave[k] = 0\n",
    "            total += 1\n",
    "            p1 += 1\n",
    "    if step==100: print(p1)\n",
    "step"
   ]
  },
  {
   "cell_type": "code",
   "execution_count": null,
   "metadata": {},
   "outputs": [],
   "source": []
  }
 ],
 "metadata": {
  "kernelspec": {
   "display_name": "Python 3",
   "language": "python",
   "name": "python3"
  },
  "language_info": {
   "codemirror_mode": {
    "name": "ipython",
    "version": 3
   },
   "file_extension": ".py",
   "mimetype": "text/x-python",
   "name": "python",
   "nbconvert_exporter": "python",
   "pygments_lexer": "ipython3",
   "version": "3.8.5"
  }
 },
 "nbformat": 4,
 "nbformat_minor": 4
}
