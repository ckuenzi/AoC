{
 "cells": [
  {
   "cell_type": "code",
   "execution_count": 17,
   "metadata": {},
   "outputs": [
    {
     "name": "stdout",
     "output_type": "stream",
     "text": [
      "1652\n"
     ]
    },
    {
     "data": {
      "text/plain": [
       "220"
      ]
     },
     "execution_count": 17,
     "metadata": {},
     "output_type": "execute_result"
    }
   ],
   "source": [
    "from itertools import product\n",
    "\n",
    "cave = {(x,y):int(n) for x,l in enumerate(open('day11.txt')) for y,n in enumerate(l.strip())}\n",
    "dirs = list(product([-1,0,1], [-1,0,1]))\n",
    "dirs.remove((0,0))\n",
    "\n",
    "p1 = step = 0\n",
    "while sum(cave.values()):\n",
    "    step += 1\n",
    "    for k in cave: cave[k] += 1\n",
    "    to_flash = [k for k,v in cave.items() if v > 9]\n",
    "    flashed = []\n",
    "    while to_flash:\n",
    "        x,y = to_flash.pop()\n",
    "        flashed.append((x,y))\n",
    "        for dx,dy in dirs:\n",
    "            xn,yn = x+dx, y+dy\n",
    "            if (xn,yn) not in cave: continue\n",
    "            cave[xn,yn] += 1\n",
    "            if cave[xn,yn] > 9 and (xn,yn) not in flashed and (xn,yn) not in to_flash:\n",
    "                to_flash.append((xn,yn))\n",
    "    for k in cave: cave[k] = cave[k] if cave[k] <= 9 else 0\n",
    "    p1 += len(flashed)\n",
    "    if step==100: print(p1)\n",
    "step"
   ]
  },
  {
   "cell_type": "code",
   "execution_count": null,
   "metadata": {},
   "outputs": [],
   "source": []
  }
 ],
 "metadata": {
  "kernelspec": {
   "display_name": "Python 3",
   "language": "python",
   "name": "python3"
  },
  "language_info": {
   "codemirror_mode": {
    "name": "ipython",
    "version": 3
   },
   "file_extension": ".py",
   "mimetype": "text/x-python",
   "name": "python",
   "nbconvert_exporter": "python",
   "pygments_lexer": "ipython3",
   "version": "3.8.5"
  }
 },
 "nbformat": 4,
 "nbformat_minor": 4
}
