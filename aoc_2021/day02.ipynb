{
 "cells": [
  {
   "cell_type": "code",
   "execution_count": 1,
   "metadata": {},
   "outputs": [
    {
     "name": "stdout",
     "output_type": "stream",
     "text": [
      "Part 1: 2187380.0\n",
      "Part 2: 2086357770.0\n"
     ]
    }
   ],
   "source": [
    "p1 = p2 = aim = 0\n",
    "for line in open('day02.txt'):\n",
    "    match line.split():\n",
    "        case 'forward', d:\n",
    "            p1 += int(d)\n",
    "            p2 += int(d)\n",
    "            p2 += aim * int(d) * 1j\n",
    "        case 'down', d:\n",
    "            p1 += int(d) * 1j\n",
    "            aim += int(d)\n",
    "        case 'up', d:\n",
    "            p1 -= int(d) * 1j\n",
    "            aim -= int(d)\n",
    "print(f\"Part 1: {p1.real * p1.imag}\")\n",
    "print(f\"Part 2: {p2.real * p2.imag}\")"
   ]
  }
 ],
 "metadata": {
  "kernelspec": {
   "display_name": "Python 3 (ipykernel)",
   "language": "python",
   "name": "python3"
  },
  "language_info": {
   "codemirror_mode": {
    "name": "ipython",
    "version": 3
   },
   "file_extension": ".py",
   "mimetype": "text/x-python",
   "name": "python",
   "nbconvert_exporter": "python",
   "pygments_lexer": "ipython3",
   "version": "3.10.0"
  }
 },
 "nbformat": 4,
 "nbformat_minor": 4
}
