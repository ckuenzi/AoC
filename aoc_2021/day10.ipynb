{
 "cells": [
  {
   "cell_type": "code",
   "execution_count": 1,
   "metadata": {},
   "outputs": [
    {
     "name": "stdout",
     "output_type": "stream",
     "text": [
      "216297\n",
      "2165057169\n"
     ]
    }
   ],
   "source": [
    "from functools import reduce\n",
    "match = {']':'[',')':'(','}':'{','>':'<'}\n",
    "points = {'(': 1, '[':2, '{':3, '<':4, ')': 3, ']':57, '}':1197, '>':25137}\n",
    "\n",
    "p1 = 0\n",
    "p2 = []\n",
    "for line in open('day10.txt').read().splitlines():\n",
    "    to_close = []\n",
    "    add_p2 = True\n",
    "    for c in line:\n",
    "        if c in match.values():\n",
    "            to_close.append(c)\n",
    "        elif match[c] == to_close[-1]:\n",
    "            to_close.pop()\n",
    "        else:\n",
    "            p1 += points[c]\n",
    "            break\n",
    "    else:\n",
    "        p2.append(reduce(lambda a,b: a * 5 + points[b], reversed(to_close), 0))\n",
    "print(p1)\n",
    "print(sorted(p2)[len(p2)//2])"
   ]
  }
 ],
 "metadata": {
  "kernelspec": {
   "display_name": "Python 3",
   "language": "python",
   "name": "python3"
  },
  "language_info": {
   "codemirror_mode": {
    "name": "ipython",
    "version": 3
   },
   "file_extension": ".py",
   "mimetype": "text/x-python",
   "name": "python",
   "nbconvert_exporter": "python",
   "pygments_lexer": "ipython3",
   "version": "3.8.5"
  }
 },
 "nbformat": 4,
 "nbformat_minor": 4
}
