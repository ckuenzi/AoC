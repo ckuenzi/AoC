{
 "cells": [
  {
   "cell_type": "code",
   "execution_count": 1,
   "metadata": {},
   "outputs": [],
   "source": [
    "import math\n",
    "data = \"\"\n",
    "for c in open('day16.txt').read(): data += format(int(c, 16), '004b')\n",
    "p1 = 0\n",
    "\n",
    "def parse(data):\n",
    "    global p1\n",
    "    v,t,i = int(data[:3], 2), int(data[3:6], 2), 6\n",
    "    p1 += v\n",
    "    if t == 4:\n",
    "        literal = \"\"\n",
    "        while True:\n",
    "            literal += data[i+1:i+5]\n",
    "            i += 5\n",
    "            if data[i-5] == '0': break\n",
    "        return i, int(literal, 2)\n",
    "    else:\n",
    "        vals = []\n",
    "        i += 1\n",
    "        if data[i-1] == '0':\n",
    "            bits = int(data[i:i+15],2)\n",
    "            i += 15\n",
    "            end = i + bits\n",
    "            while i < end:\n",
    "                di, val = parse(data[i:])\n",
    "                i += di\n",
    "                vals.append(val)\n",
    "        else:\n",
    "            i += 11\n",
    "            for _ in range(int(data[i-11:i], 2)):\n",
    "                di, val = parse(data[i:])\n",
    "                i += di\n",
    "                vals.append(val)\n",
    "        if t == 0: res = sum(vals)\n",
    "        elif t == 1: res = math.prod(vals)\n",
    "        elif t == 2: res = min(vals)\n",
    "        elif t == 3: res = max(vals)\n",
    "        elif t == 5: res = int(vals[0] > vals[1])\n",
    "        elif t == 6: res = int(vals[0] < vals[1])\n",
    "        elif t == 7: res = int(vals[0] == vals[1])\n",
    "        return i, res\n",
    "p2 = parse(data)[1]\n",
    "print(p1, p2)"
   ]
  }
 ],
 "metadata": {
  "kernelspec": {
   "display_name": "Python 3",
   "language": "python",
   "name": "python3"
  },
  "language_info": {
   "codemirror_mode": {
    "name": "ipython",
    "version": 3
   },
   "file_extension": ".py",
   "mimetype": "text/x-python",
   "name": "python",
   "nbconvert_exporter": "python",
   "pygments_lexer": "ipython3",
   "version": "3.8.5"
  }
 },
 "nbformat": 4,
 "nbformat_minor": 4
}
