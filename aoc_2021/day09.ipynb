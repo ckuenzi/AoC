{
 "cells": [
  {
   "cell_type": "code",
   "execution_count": 1,
   "metadata": {},
   "outputs": [],
   "source": [
    "import collections, itertools\n",
    "cave = [[10]+[int(x) for x in list(x)]+[10] for x in open('day09.txt').read().splitlines()]\n",
    "cave.insert(0, [10]*len(cave[0]))\n",
    "cave.append([10]*len(cave[0]))\n",
    "dirs = [(1,0), (-1,0), (0,1), (0,-1)]"
   ]
  },
  {
   "cell_type": "code",
   "execution_count": 2,
   "metadata": {},
   "outputs": [
    {
     "data": {
      "text/plain": [
       "522"
      ]
     },
     "execution_count": 2,
     "metadata": {},
     "output_type": "execute_result"
    }
   ],
   "source": [
    "p1 = 0\n",
    "for (y,x) in itertools.product(range(1,len(cave)-1), range(1,len(cave)-1)):\n",
    "    if cave[y][x] < min([cave[y+dy][x+dx] for dx, dy in dirs]): \n",
    "        p1 += cave[y][x]+1\n",
    "p1"
   ]
  },
  {
   "cell_type": "code",
   "execution_count": 3,
   "metadata": {},
   "outputs": [
    {
     "data": {
      "text/plain": [
       "916688"
      ]
     },
     "execution_count": 3,
     "metadata": {},
     "output_type": "execute_result"
    }
   ],
   "source": [
    "basins = dict()\n",
    "for (y,x) in itertools.product(range(1,len(cave)-1), range(1,len(cave)-1)):\n",
    "    if cave[y][x] < min([cave[y+dy][x+dx] for dx, dy in dirs]): \n",
    "        adj = [(x,y)]\n",
    "        while len(adj) > 0:\n",
    "            px, py = adj.pop()\n",
    "            basins[(px,py)] = (x,y)\n",
    "            for dx, dy in dirs:\n",
    "                if cave[py+dy][px+dx] < 9 and (px+dx, py+dy) not in basins:\n",
    "                    adj += [(px+dx, py+dy)]\n",
    "\n",
    "groups = list(collections.Counter(basins.values()).values())\n",
    "groups.sort()\n",
    "groups[-1] * groups[-2] * groups[-3]"
   ]
  }
 ],
 "metadata": {
  "kernelspec": {
   "display_name": "Python 3",
   "language": "python",
   "name": "python3"
  },
  "language_info": {
   "codemirror_mode": {
    "name": "ipython",
    "version": 3
   },
   "file_extension": ".py",
   "mimetype": "text/x-python",
   "name": "python",
   "nbconvert_exporter": "python",
   "pygments_lexer": "ipython3",
   "version": "3.8.5"
  }
 },
 "nbformat": 4,
 "nbformat_minor": 4
}
