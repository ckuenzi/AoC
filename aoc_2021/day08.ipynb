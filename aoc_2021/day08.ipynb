{
 "cells": [
  {
   "cell_type": "code",
   "execution_count": 1,
   "metadata": {},
   "outputs": [],
   "source": [
    "input = open('day08.txt').read().splitlines()\n",
    "patterns = [line.split(' | ')[0].split() for line in input]\n",
    "outputs = [line.split(' | ')[1].split() for line in input]"
   ]
  },
  {
   "cell_type": "code",
   "execution_count": 2,
   "metadata": {},
   "outputs": [
    {
     "data": {
      "text/plain": [
       "247"
      ]
     },
     "execution_count": 2,
     "metadata": {},
     "output_type": "execute_result"
    }
   ],
   "source": [
    "sum([sum([len(o) in [2,4,3,7] for o in out]) for out in outputs])"
   ]
  },
  {
   "cell_type": "code",
   "execution_count": 3,
   "metadata": {},
   "outputs": [
    {
     "data": {
      "text/plain": [
       "933305"
      ]
     },
     "execution_count": 3,
     "metadata": {},
     "output_type": "execute_result"
    }
   ],
   "source": [
    "p2 = 0\n",
    "for i in range(len(patterns)):\n",
    "    one = four = seven = num = \"\"\n",
    "    for segment in patterns[i]:\n",
    "        if len(segment) == 2: one = set(list(segment))\n",
    "        if len(segment) == 4: four = set(list(segment))\n",
    "        if len(segment) == 7: seven = set(list(segment))\n",
    "    for out in [set(list(o)) for o in outputs[i]]:\n",
    "        if len(out) == 2: num += '1'\n",
    "        if len(out) == 4: num += '4'\n",
    "        if len(out) == 3: num += '7'\n",
    "        if len(out) == 7: num += '8'\n",
    "        if len(out) == 6:\n",
    "            if len(out & one) == 1: num += '6'\n",
    "            elif len(out & four) == 4: num += '9'\n",
    "            else: num += '0'\n",
    "        if len(out) == 5:\n",
    "            if len(out & one) == 2: num += '3'\n",
    "            elif len(out & four) == 2: num += '2'\n",
    "            else: num += '5'\n",
    "    p2 += int(num)\n",
    "p2"
   ]
  }
 ],
 "metadata": {
  "kernelspec": {
   "display_name": "Python 3",
   "language": "python",
   "name": "python3"
  },
  "language_info": {
   "codemirror_mode": {
    "name": "ipython",
    "version": 3
   },
   "file_extension": ".py",
   "mimetype": "text/x-python",
   "name": "python",
   "nbconvert_exporter": "python",
   "pygments_lexer": "ipython3",
   "version": "3.8.5"
  }
 },
 "nbformat": 4,
 "nbformat_minor": 4
}
