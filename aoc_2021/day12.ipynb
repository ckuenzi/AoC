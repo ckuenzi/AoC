{
 "cells": [
  {
   "cell_type": "code",
   "execution_count": 1,
   "metadata": {},
   "outputs": [],
   "source": [
    "from collections import defaultdict\n",
    "lines = open('day12.txt').read().splitlines()\n",
    "g = defaultdict(list)\n",
    "for line in lines:\n",
    "    a,b = line.split('-')\n",
    "    g[a].append(b)\n",
    "    g[b].append(a)"
   ]
  },
  {
   "cell_type": "code",
   "execution_count": 2,
   "metadata": {},
   "outputs": [
    {
     "data": {
      "text/plain": [
       "5252"
      ]
     },
     "execution_count": 2,
     "metadata": {},
     "output_type": "execute_result"
    }
   ],
   "source": [
    "def paths(g, node):\n",
    "    if node == 'end': return 1\n",
    "    adj = g[node]\n",
    "    if node.islower(): g = defaultdict(list,{k:[v for v in v if v != node] for k,v in g.items() if k != node})\n",
    "    return sum([paths(g, a) for a in adj])\n",
    "paths(g, 'start')"
   ]
  },
  {
   "cell_type": "code",
   "execution_count": 3,
   "metadata": {},
   "outputs": [
    {
     "data": {
      "text/plain": [
       "147784"
      ]
     },
     "execution_count": 3,
     "metadata": {},
     "output_type": "execute_result"
    }
   ],
   "source": [
    " def paths(g, node, path, twice):\n",
    "    if node.islower() and node in path: twice = True\n",
    "    path.append(node)\n",
    "    if node == 'end': return 1\n",
    "    adj = g[node]\n",
    "    if 'start' in adj: adj.remove('start')\n",
    "    if node.islower() and twice:\n",
    "        g = defaultdict(list,{k:[v for v in v if v != node] for k,v in g.items() if k != node})\n",
    "    p2 = 0\n",
    "    for a in adj:\n",
    "        if twice and a.islower() and a in path: continue\n",
    "        p2 += paths(g, a, path.copy(), twice)   \n",
    "    return p2\n",
    "paths(g, 'start', [], False)"
   ]
  }
 ],
 "metadata": {
  "kernelspec": {
   "display_name": "Python 3",
   "language": "python",
   "name": "python3"
  },
  "language_info": {
   "codemirror_mode": {
    "name": "ipython",
    "version": 3
   },
   "file_extension": ".py",
   "mimetype": "text/x-python",
   "name": "python",
   "nbconvert_exporter": "python",
   "pygments_lexer": "ipython3",
   "version": "3.8.5"
  }
 },
 "nbformat": 4,
 "nbformat_minor": 4
}
