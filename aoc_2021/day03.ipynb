{
 "cells": [
  {
   "cell_type": "code",
   "execution_count": 1,
   "metadata": {},
   "outputs": [],
   "source": [
    "nums = open('day03.txt').read().splitlines()"
   ]
  },
  {
   "cell_type": "code",
   "execution_count": 2,
   "metadata": {},
   "outputs": [
    {
     "data": {
      "text/plain": [
       "3959450"
      ]
     },
     "execution_count": 2,
     "metadata": {},
     "output_type": "execute_result"
    }
   ],
   "source": [
    "gamma = \"\"\n",
    "for i in range(len(nums[0])):\n",
    "    bits = [num[i] for num in nums]\n",
    "    gamma += str(int(bits.count('0') <= len(nums)/2))\n",
    "gamma = int(gamma, 2)\n",
    "gamma * (gamma ^ 0xFFF)"
   ]
  },
  {
   "cell_type": "code",
   "execution_count": 3,
   "metadata": {},
   "outputs": [
    {
     "data": {
      "text/plain": [
       "7440311"
      ]
     },
     "execution_count": 3,
     "metadata": {},
     "output_type": "execute_result"
    }
   ],
   "source": [
    "ox = co2 = nums\n",
    "\n",
    "for pos in range(len(ox[0])):\n",
    "    cnt = sum([int(num[pos]) for num in ox])\n",
    "    maj = str(int(cnt >= len(ox)/2))\n",
    "    ox = [n for n in ox if n[pos] == maj]    \n",
    "    \n",
    "for pos in range(len(co2[0])):\n",
    "    cnt = sum([int(num[pos]) for num in co2])\n",
    "    maj = str(int(cnt < len(co2)/2))\n",
    "    co2 = [n for n in co2 if n[pos] == maj]    \n",
    "    if len(co2) == 1: break\n",
    "\n",
    "int(ox[0], 2) * int(co2[0], 2)"
   ]
  }
 ],
 "metadata": {
  "kernelspec": {
   "display_name": "Python 3",
   "language": "python",
   "name": "python3"
  },
  "language_info": {
   "codemirror_mode": {
    "name": "ipython",
    "version": 3
   },
   "file_extension": ".py",
   "mimetype": "text/x-python",
   "name": "python",
   "nbconvert_exporter": "python",
   "pygments_lexer": "ipython3",
   "version": "3.8.5"
  }
 },
 "nbformat": 4,
 "nbformat_minor": 4
}
