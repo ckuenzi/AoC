{
 "cells": [
  {
   "cell_type": "code",
   "execution_count": 1,
   "metadata": {},
   "outputs": [],
   "source": [
    "input = open('day04.txt').read().split('\\n\\n')"
   ]
  },
  {
   "cell_type": "code",
   "execution_count": 2,
   "metadata": {},
   "outputs": [
    {
     "name": "stdout",
     "output_type": "stream",
     "text": [
      "8580\n",
      "9576\n"
     ]
    }
   ],
   "source": [
    "nums = [int(n) for n in input[0].split(',')]\n",
    "boards = [[[(int(n), False) for n in line.split()] for line in board.splitlines()] for board in input[1:]]\n",
    "counters = [[0]*10 for _ in range(len(boards))]\n",
    "won = [False] * len(boards)\n",
    "\n",
    "for num in nums:\n",
    "    for b, board in enumerate(boards):\n",
    "        if won[b]: continue\n",
    "        for i,j in [(i,j) for i in range(5) for j in range(5)]:\n",
    "            if board[i][j][0] == num:\n",
    "                board[i][j] = (board[i][j][0], True)\n",
    "                counters[b][i] += 1\n",
    "                counters[b][5+j] += 1\n",
    "        if counters[b].count(5) >= 1:\n",
    "            won[b] = True\n",
    "            total = sum([sum([a for a,b in row if not b]) for row in board])\n",
    "            if won.count(True) == 1 or won.count(True) == len(boards):            \n",
    "                print(total * num)"
   ]
  }
 ],
 "metadata": {
  "kernelspec": {
   "display_name": "Python 3",
   "language": "python",
   "name": "python3"
  },
  "language_info": {
   "codemirror_mode": {
    "name": "ipython",
    "version": 3
   },
   "file_extension": ".py",
   "mimetype": "text/x-python",
   "name": "python",
   "nbconvert_exporter": "python",
   "pygments_lexer": "ipython3",
   "version": "3.8.5"
  }
 },
 "nbformat": 4,
 "nbformat_minor": 4
}
