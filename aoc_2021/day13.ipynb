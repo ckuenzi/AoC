{
 "cells": [
  {
   "cell_type": "code",
   "execution_count": 1,
   "metadata": {},
   "outputs": [],
   "source": [
    "parts = open('day13.txt').read().split('\\n\\n')\n",
    "paper = {}\n",
    "for d in parts[0].splitlines():\n",
    "    x,y = d.split(',')\n",
    "    paper[(int(x),int(y))] = True\n",
    "\n",
    "folds = []\n",
    "for f in parts[1].splitlines():\n",
    "    a,p = f.split('=')\n",
    "    folds.append((a[-1],int(p)))"
   ]
  },
  {
   "cell_type": "code",
   "execution_count": 2,
   "metadata": {},
   "outputs": [
    {
     "data": {
      "text/plain": [
       "94"
      ]
     },
     "execution_count": 2,
     "metadata": {},
     "output_type": "execute_result"
    }
   ],
   "source": [
    "for ax, pos in folds:\n",
    "        for (x,y), d in list(paper.items()):\n",
    "            if ax == 'x':\n",
    "                if x > pos and d:\n",
    "                    paper[pos - (x-pos), y] = True\n",
    "                    paper[x,y] = False\n",
    "            else:\n",
    "                if y > pos and d:\n",
    "                    paper[x, pos - (y-pos)] = True\n",
    "                    paper[x,y] = False     \n",
    "list(paper.values()).count(True)"
   ]
  },
  {
   "cell_type": "code",
   "execution_count": 3,
   "metadata": {},
   "outputs": [
    {
     "name": "stdout",
     "output_type": "stream",
     "text": [
      "███   ██  ███  █     ██  █  █ █  █ █              \n",
      "█  █ █  █ █  █ █    █  █ █ █  █  █ █              \n",
      "█  █ █    █  █ █    █  █ ██   ████ █              \n",
      "███  █    ███  █    ████ █ █  █  █ █              \n",
      "█ █  █  █ █    █    █  █ █ █  █  █ █              \n",
      "█  █  ██  █    ████ █  █ █  █ █  █ ████           \n",
      "                                                  \n",
      "                                                  \n",
      "                                                  \n",
      "                                                  \n"
     ]
    }
   ],
   "source": [
    "for y in range(10):\n",
    "    for x in range(50):\n",
    "        print('█' if (x,y) in paper and paper[x,y] else ' ', end='')\n",
    "    print()"
   ]
  }
 ],
 "metadata": {
  "kernelspec": {
   "display_name": "Python 3",
   "language": "python",
   "name": "python3"
  },
  "language_info": {
   "codemirror_mode": {
    "name": "ipython",
    "version": 3
   },
   "file_extension": ".py",
   "mimetype": "text/x-python",
   "name": "python",
   "nbconvert_exporter": "python",
   "pygments_lexer": "ipython3",
   "version": "3.8.5"
  }
 },
 "nbformat": 4,
 "nbformat_minor": 4
}
