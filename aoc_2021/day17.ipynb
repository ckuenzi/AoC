{
 "cells": [
  {
   "cell_type": "code",
   "execution_count": 1,
   "metadata": {},
   "outputs": [
    {
     "data": {
      "text/plain": [
       "(19503, 5200)"
      ]
     },
     "execution_count": 1,
     "metadata": {},
     "output_type": "execute_result"
    }
   ],
   "source": [
    "from numpy import sign\n",
    "nums = [n for n in open('day17.txt').read().replace('=',' ').replace('..',' ').replace(',',' ').split()]\n",
    "xmin, xmax, ymin, ymax = int(nums[3]), int(nums[4]), int(nums[6]), int(nums[7])\n",
    "\n",
    "p1 = p2 = 0\n",
    "for dyi in range(-500, 500):\n",
    "    for dx in range(500):\n",
    "        dy = dyi\n",
    "        x,y = 0,0\n",
    "        high = 0\n",
    "        while x <= xmax and y >= ymin:\n",
    "            x, y = x+dx, y+dy\n",
    "            dx, dy = dx-sign(dx), dy-1\n",
    "            high = max(high, y)\n",
    "            if x >= xmin and x <= xmax and y >= ymin and y <= ymax:\n",
    "                p1 = max(p1, high)\n",
    "                p2 += 1\n",
    "                break\n",
    "p1,p2"
   ]
  }
 ],
 "metadata": {
  "kernelspec": {
   "display_name": "Python 3",
   "language": "python",
   "name": "python3"
  },
  "language_info": {
   "codemirror_mode": {
    "name": "ipython",
    "version": 3
   },
   "file_extension": ".py",
   "mimetype": "text/x-python",
   "name": "python",
   "nbconvert_exporter": "python",
   "pygments_lexer": "ipython3",
   "version": "3.8.5"
  }
 },
 "nbformat": 4,
 "nbformat_minor": 4
}
