{
 "cells": [
  {
   "cell_type": "code",
   "execution_count": 1,
   "metadata": {},
   "outputs": [
    {
     "data": {
      "text/plain": [
       "2827627697643"
      ]
     },
     "execution_count": 1,
     "metadata": {},
     "output_type": "execute_result"
    }
   ],
   "source": [
    "from collections import defaultdict\n",
    "import operator\n",
    "parts = open('day14.txt').read().split('\\n\\n')\n",
    "template = parts[0]\n",
    "rules = {}\n",
    "for l in parts[1].splitlines():\n",
    "    a,b = l.split(' -> ')\n",
    "    rules[a] = b\n",
    "    \n",
    "pairs = defaultdict(int)\n",
    "for a,b in zip(template, template[1:]): pairs[a+b] += 1\n",
    "\n",
    "for _ in range(40):\n",
    "    d_new = defaultdict(int)\n",
    "    for p in pairs:\n",
    "        d_new[p[0] + rules[p]] += pairs[p]\n",
    "        d_new[rules[p] + p[1]] += pairs[p]\n",
    "    pairs = d_new\n",
    "\n",
    "counts = defaultdict(int)\n",
    "for p, n in pairs.items():\n",
    "    counts[p[0]] += n\n",
    "    counts[p[1]] += n\n",
    "for c in counts:\n",
    "    counts[c] = (counts[c] + 1) // 2\n",
    "    \n",
    "counts = sorted(counts.items(), key=operator.itemgetter(1))\n",
    "counts[-1][1] - counts[0][1]"
   ]
  }
 ],
 "metadata": {
  "kernelspec": {
   "display_name": "Python 3",
   "language": "python",
   "name": "python3"
  },
  "language_info": {
   "codemirror_mode": {
    "name": "ipython",
    "version": 3
   },
   "file_extension": ".py",
   "mimetype": "text/x-python",
   "name": "python",
   "nbconvert_exporter": "python",
   "pygments_lexer": "ipython3",
   "version": "3.8.5"
  }
 },
 "nbformat": 4,
 "nbformat_minor": 4
}
