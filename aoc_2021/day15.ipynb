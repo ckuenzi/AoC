{
 "cells": [
  {
   "cell_type": "code",
   "execution_count": 1,
   "metadata": {},
   "outputs": [],
   "source": [
    "dirs = [(1,0), (0,-1), (-1,0), (0,1)]\n",
    "nodes = {}\n",
    "distance = {}\n",
    "visited = {}\n",
    "for y, line in enumerate (open('day15.txt').read().splitlines()):\n",
    "    for x, n in enumerate(line):\n",
    "        nodes[x,y] = int(n)\n",
    "        distance[x,y] = 100 * 100 * 10\n",
    "        visited[x,y] = False\n",
    "distance[0,0] = 0"
   ]
  },
  {
   "cell_type": "code",
   "execution_count": 2,
   "metadata": {},
   "outputs": [],
   "source": [
    "for y, line in enumerate (open('day15.txt').read().splitlines()):\n",
    "    for x, n in enumerate(line):\n",
    "        for dx in range(5):\n",
    "            for dy in range(5):\n",
    "                xn = x + dx * 100\n",
    "                yn = y + dy * 100\n",
    "                cost = int(n) + dx + dy\n",
    "                if cost > 9: cost -= 9\n",
    "                nodes[xn,yn] = cost\n",
    "                distance[xn,yn] = 500 * 500 * 10\n",
    "                visited[xn,yn] = False\n",
    "distance[0,0] = 0"
   ]
  },
  {
   "cell_type": "code",
   "execution_count": 3,
   "metadata": {},
   "outputs": [
    {
     "data": {
      "text/plain": [
       "2952"
      ]
     },
     "execution_count": 3,
     "metadata": {},
     "output_type": "execute_result"
    }
   ],
   "source": [
    "candidates = [(0,0)]\n",
    "pos = (0,0)\n",
    "\n",
    "while(pos != (499,499)):\n",
    "    pos = candidates.pop(0)\n",
    "    visited[pos] = True\n",
    "    \n",
    "    for d in dirs:\n",
    "        pn = (pos[0] + d[0], pos[1] + d[1])\n",
    "        if pn in nodes and not visited[pn]:\n",
    "            distance[pn] = min(distance[pos] + nodes[pn], distance[pn])\n",
    "            d = distance[pn]\n",
    "            if pn not in candidates:\n",
    "                left, right = 0, len(candidates) - 1\n",
    "                mid = (left + right) // 2\n",
    "                while left <= right:\n",
    "                    if len(candidates) == 0:\n",
    "                        candidates.append(pn)\n",
    "                        break\n",
    "                    mid = (left + right) // 2\n",
    "                    if distance[candidates[mid]] < d:\n",
    "                        left = mid + 1\n",
    "                    elif distance[candidates[mid]] > d:\n",
    "                        right = mid - 1\n",
    "                    else:\n",
    "                        break\n",
    "                candidates.insert(mid, pn)\n",
    "                \n",
    "distance[499,499]"
   ]
  }
 ],
 "metadata": {
  "kernelspec": {
   "display_name": "Python 3",
   "language": "python",
   "name": "python3"
  },
  "language_info": {
   "codemirror_mode": {
    "name": "ipython",
    "version": 3
   },
   "file_extension": ".py",
   "mimetype": "text/x-python",
   "name": "python",
   "nbconvert_exporter": "python",
   "pygments_lexer": "ipython3",
   "version": "3.8.5"
  }
 },
 "nbformat": 4,
 "nbformat_minor": 4
}
