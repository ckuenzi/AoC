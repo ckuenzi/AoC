{
 "cells": [
  {
   "cell_type": "code",
   "execution_count": 1,
   "metadata": {},
   "outputs": [
    {
     "name": "stdout",
     "output_type": "stream",
     "text": [
      "390923\n",
      "1749945484935\n"
     ]
    }
   ],
   "source": [
    "fish = [int(x) for x in open('day06.txt').read().split(',')]\n",
    "bd = [fish.count(d) for d in range(9)]\n",
    "for d in range(256):\n",
    "    if(d==80): print(sum(bd))\n",
    "    bd[d % 7], bd[7], bd[8] = bd[d % 7] + bd[7], bd[8], bd[d % 7]\n",
    "print(sum(bd))"
   ]
  }
 ],
 "metadata": {
  "kernelspec": {
   "display_name": "Python 3",
   "language": "python",
   "name": "python3"
  },
  "language_info": {
   "codemirror_mode": {
    "name": "ipython",
    "version": 3
   },
   "file_extension": ".py",
   "mimetype": "text/x-python",
   "name": "python",
   "nbconvert_exporter": "python",
   "pygments_lexer": "ipython3",
   "version": "3.8.5"
  }
 },
 "nbformat": 4,
 "nbformat_minor": 4
}
